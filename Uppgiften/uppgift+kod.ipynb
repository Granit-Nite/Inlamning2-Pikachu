{
 "cells": [
  {
   "cell_type": "markdown",
   "metadata": {},
   "source": [
    "# Uppgifter \n",
    "\n",
    "1. klassificera testdatan korrekt.\n",
    "\n"
   ]
  },
  {
   "cell_type": "code",
   "execution_count": null,
   "metadata": {},
   "outputs": [],
   "source": [
    "import pandas as pd\n",
    "\n",
    "\n",
    "\n",
    "#läs in datan\n",
    "dataplats = r\"C:\\Code\\Inlamning2-Pikachu\\Data\\datapoints.txt\"\n",
    " \n",
    " #plotta t alla punkter (varje klass får en färg) OBS GÖR EN GRAF ME FÄRG \n",
    "with open(dataplats) as datapunkter:\n",
    "    content = datapunkter.read()\n",
    "print (content)"
   ]
  },
  {
   "cell_type": "markdown",
   "metadata": {
    "vscode": {
     "languageId": "plaintext"
    }
   },
   "source": [
    "2. Låt användaren mata in en testpunkt och låt algoritmen avgöra dess klass. Ta med felhanteringen\n",
    "som tar hand om negativa tal och icke-numeriska inputs. Se till att ha användarvänliga felmeddelanden.\n",
    "\n"
   ]
  },
  {
   "cell_type": "markdown",
   "metadata": {
    "vscode": {
     "languageId": "plaintext"
    }
   },
   "source": [
    "3. . Den approachen vi använt med närmaste punkten kan klassificera fel när punkterna för respektive\n",
    "klass går in i varandra. **_Nu ska du istället välja de tio närmaste punkterna till din testpunkt_** \n",
    "Den klass testpunkten tillhör avgörs av majoritetsröstning av de närmaste punkterna\n",
    "\n"
   ]
  },
  {
   "cell_type": "markdown",
   "metadata": {},
   "source": [
    "----------------------------------------------------------"
   ]
  },
  {
   "cell_type": "markdown",
   "metadata": {
    "vscode": {
     "languageId": "plaintext"
    }
   },
   "source": [
    "# Bonusuppgifter\n",
    "3. Dela in ursprungsdatan slumpmässigt så att:\n",
    "- 100 är träningsdata (50 Pikachu, 50 Pichu)\n",
    "- 50 är testdata (25 Pikachu, 25 Pichu)\n",
    "\n"
   ]
  },
  {
   "cell_type": "markdown",
   "metadata": {
    "vscode": {
     "languageId": "plaintext"
    }
   },
   "source": [
    "4. Beräkna noggranheten genom följande formel:\n",
    "\n",
    "accuracy = $(TP+TN)/(total)$\n",
    "\n",
    "\n",
    "| |  | Pikachu actual | Pichu actual |\n",
    "|---|--|---|---|\n",
    "|Pikachu predicted| | TP| FP\n",
    "|Pichu predicted| |FN|TN\n",
    "\n",
    "\n",
    "Här har vi låtit Pikachu vara positiv och Pichu vara \"icke-Pikachu\" dvs negativ.\n",
    "***Notera: För varje testpunkt beräknar vi distansen till träningspunkterna***\n"
   ]
  },
  {
   "cell_type": "markdown",
   "metadata": {
    "vscode": {
     "languageId": "plaintext"
    }
   },
   "source": [
    "\n",
    " 5. Upprepa uppgift 3 och 4 tio gånger, plotta en graf över accuracy och rapportera medelaccuracy.\n",
    "\n",
    " "
   ]
  },
  {
   "cell_type": "markdown",
   "metadata": {},
   "source": [
    "----------------------------------------------------------"
   ]
  },
  {
   "cell_type": "markdown",
   "metadata": {},
   "source": [
    " ### **Bedömning**\n",
    "\n",
    " Om du har fått någon kodsnutt från någon annan eller hittat i någon sida är det **viktigt att du källhänvisar.**\n",
    "\n",
    " Skriv en kommentar bredvid koden som du har tagit.\n",
    "\n",
    " \n",
    "\n",
    " **Godkänt**\n",
    " - löst grunduppgift, samt övriga uppgifter på korrekt sätt\n",
    " - koden är kommenterad med relevanta kommentarer\n",
    " - variabelnamnen är bra valda\n",
    " - gjort flera relevanta git commits\n",
    "\n",
    " **Väl Godkänt**\n",
    " - koden är enkel att följa\n",
    " - koden är effektiv\n",
    " - koden är välstrukturerad med lämpliga funktioner\n",
    " - kommentarerna är datavetenskapligt korrekta\n",
    " - löst samtliga uppgifter"
   ]
  }
 ],
 "metadata": {
  "kernelspec": {
   "display_name": ".venv",
   "language": "python",
   "name": "python3"
  },
  "language_info": {
   "codemirror_mode": {
    "name": "ipython",
    "version": 3
   },
   "file_extension": ".py",
   "mimetype": "text/x-python",
   "name": "python",
   "nbconvert_exporter": "python",
   "pygments_lexer": "ipython3",
   "version": "3.12.5"
  }
 },
 "nbformat": 4,
 "nbformat_minor": 2
}
