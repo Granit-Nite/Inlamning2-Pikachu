{
 "cells": [
  {
   "cell_type": "markdown",
   "metadata": {},
   "source": [
    "# Uppgifter \n",
    "\n",
    "Klassificera testdatan korrekt.\n",
    "\n"
   ]
  },
  {
   "cell_type": "code",
   "execution_count": 13,
   "metadata": {},
   "outputs": [
    {
     "data": {
      "image/png": "[encoded data removed]",
      "text/plain": [
       "<Figure size 640x480 with 1 Axes>"
      ]
     },
     "metadata": {},
     "output_type": "display_data"
    },
    {
     "name": "stdout",
     "output_type": "stream",
     "text": [
      "Punkt (25.0, 32.0) klassificeras som Pikachu\n",
      "Punkt (24.2, 31.5) klassificeras som Pikachu\n",
      "Punkt (22.0, 34.0) klassificeras som Pikachu\n",
      "Punkt (20.5, 34.0) klassificeras som Pichu\n"
     ]
    }
   ],
   "source": [
    "import pandas as pd\n",
    "import matplotlib.pyplot as plt\n",
    "import math\n",
    "import re\n",
    "\n",
    "############################################### GRAF ##################################################\n",
    "# 1. Läser filen\n",
    "train_data = pd.read_csv(r\"C:\\Code\\Inlamning2-Pikachu\\Data\\datapoints.txt\")\n",
    "\n",
    "# Gör om train_data till dataframe\n",
    "df = pd.DataFrame(train_data)\n",
    "\n",
    "# Städar kolumnnamn från mellanslag\n",
    "train_data.columns = train_data.columns.str.strip()\n",
    "\n",
    "# Ändrar namn på kolumnerna\n",
    "df.columns = ['width', 'height', 'label', 'nummer']\n",
    "\n",
    "# Separera på Pichu och Pikachu\n",
    "df1 = df[df.label == 0]     # df1 = Pichu\n",
    "df2 = df[df.label == 1]     # df2 = Pikachu\n",
    "\n",
    "# Skapar scatter plot med Pichu (grön) och Pikachu (blå)\n",
    "plt.xlabel('width')\n",
    "plt.ylabel('height')\n",
    "plt.scatter(df1['width'], df1['height'], color=\"green\", marker='+')  # Pichu\n",
    "plt.scatter(df2['width'], df2['height'], color=\"blue\", marker='.')   # Pikachu\n",
    "plt.show()\n",
    "\n",
    "############################################################################# KLASSIFICERING AV NYA DATAPUNKTER\n",
    "\n",
    "# Funktion för att beräkna euklidiskt avstånd\n",
    "def euclidean_distance(p1, p2, q1=0, q2=0):\n",
    "    return math.sqrt((p1 - q1) ** 2 + (p2 - q2) ** 2)\n",
    "\n",
    "# Funktion för att klassificera nya datapunkter baserat på närmsta granne\n",
    "def classify_new_point(new_points, df):\n",
    "    classifications = []\n",
    "    for new_point in new_points:\n",
    "        new_width, new_height = new_point\n",
    "        min_distance = float('inf')\n",
    "        closest_label = None\n",
    "        \n",
    "        # Jämför varje ny punkt med alla träningsdata\n",
    "        for index, row in df.iterrows():\n",
    "            distance = euclidean_distance(new_width, new_height, row['width'], row['height'])\n",
    "            if distance < min_distance:\n",
    "                min_distance = distance\n",
    "                closest_label = row['label']\n",
    "        \n",
    "        classifications.append((new_point, closest_label))\n",
    "    return classifications\n",
    "\n",
    "# Läser testpunkter från testpoints.txt\n",
    "test_points = []\n",
    "with open(\"../Data/Testpoints.txt\", \"r\") as file:\n",
    "    lines = file.readlines()\n",
    "    for line in lines:\n",
    "        match = re.search(r\"\\((\\d+(\\.\\d+)?),\\s*(\\d+(\\.\\d+)?)\\)\", line)  # Extraherar koordinater\n",
    "        if match:\n",
    "            x, y = float(match.group(1)), float(match.group(3))\n",
    "            test_points.append((x, y))\n",
    "\n",
    "# Klassificerar testpunkterna\n",
    "result = classify_new_point(test_points, df)\n",
    "\n",
    "# Skriver ut resultatet\n",
    "for point, label in result:\n",
    "    print(f\"Punkt {point} klassificeras som {'Pichu' if label == 0 else 'Pikachu'}\")\n"
   ]
  },
  {
   "cell_type": "markdown",
   "metadata": {
    "vscode": {
     "languageId": "plaintext"
    }
   },
   "source": [
    "1. Låt användaren mata in en testpunkt och låt algoritmen avgöra dess klass. Ta med felhanteringen\n",
    "som tar hand om negativa tal och icke-numeriska inputs. Se till att ha användarvänliga felmeddelanden.\n",
    "\n"
   ]
  },
  {
   "cell_type": "code",
   "execution_count": 16,
   "metadata": {},
   "outputs": [
    {
     "name": "stdout",
     "output_type": "stream",
     "text": [
      "Punkt (20.5, 34.0) klassificeras som Pichu\n"
     ]
    }
   ],
   "source": [
    "import math\n",
    "import pandas as pd\n",
    "\n",
    "# Funktion för att beräkna euklidiskt avstånd\n",
    "def euclidean_distance(p1, p2, q1=0, q2=0):\n",
    "    return math.sqrt((p1 - q1) ** 2 + (p2 - q2) ** 2)\n",
    "\n",
    "# Funktion för att klassificera en ny datapunkt\n",
    "def classify_new_point(new_point, df):\n",
    "    new_width, new_height = new_point\n",
    "    min_distance = float('inf')\n",
    "    closest_label = None\n",
    "    \n",
    "    # Jämför varje ny punkt med alla träningsdata\n",
    "    for index, row in df.iterrows():\n",
    "        distance = euclidean_distance(new_width, new_height, row['width'], row['height'])\n",
    "        if distance < min_distance:\n",
    "            min_distance = distance\n",
    "            closest_label = row['label']\n",
    "    \n",
    "    return closest_label\n",
    "\n",
    "# Läser filen med träningsdata\n",
    "train_data = pd.read_csv(r\"C:\\Code\\Inlamning2-Pikachu\\Data\\datapoints.txt\")\n",
    "train_data.columns = ['width', 'height', 'label', 'nummer']  # Ställer in kolumnnamn korrekt\n",
    "\n",
    "# Felhanteringsfunktion för inmatning\n",
    "def get_user_input():\n",
    "    while True:\n",
    "        try:\n",
    "            # Ber användaren om inmatning\n",
    "            width = float(input(\"Ange bredd : \"))\n",
    "            height = float(input(\"Ange höjd : \"))\n",
    "            \n",
    "            # Kollar om talen är negativa\n",
    "            if width < 0 or height < 0:\n",
    "                raise ValueError(\"Bredd och höjd måste vara positiva tal.\")\n",
    "            \n",
    "            return width, height\n",
    "        \n",
    "        except ValueError as ve:\n",
    "            print(f\"Fel: {ve}. Försök igen.\")\n",
    "\n",
    "# Låter användaren mata in testpunkter\n",
    "user_point = get_user_input()\n",
    "\n",
    "# Klassificerar användarens inmatade punkt\n",
    "result_label = classify_new_point(user_point, train_data)\n",
    "\n",
    "# Skriver ut resultatet\n",
    "print(f\"Punkt {user_point} klassificeras som {'Pichu' if result_label == 0 else 'Pikachu'}\")\n"
   ]
  },
  {
   "cell_type": "markdown",
   "metadata": {
    "vscode": {
     "languageId": "plaintext"
    }
   },
   "source": [
    "2. . Den approachen vi använt med närmaste punkten kan klassificera fel när punkterna för respektive\n",
    "klass går in i varandra. **_Nu ska du istället välja de tio närmaste punkterna till din testpunkt_** \n",
    "Den klass testpunkten tillhör avgörs av majoritetsröstning av de närmaste punkterna\n",
    "\n"
   ]
  },
  {
   "cell_type": "code",
   "execution_count": 17,
   "metadata": {},
   "outputs": [
    {
     "name": "stdout",
     "output_type": "stream",
     "text": [
      "Punkt (30.0, 30.0) klassificeras som Pikachu\n"
     ]
    }
   ],
   "source": [
    "import math\n",
    "import pandas as pd\n",
    "from collections import Counter\n",
    "\n",
    "# Funktion för att beräkna euklidiskt avstånd\n",
    "def euclidean_distance(p1, p2, q1=0, q2=0):\n",
    "    return math.sqrt((p1 - q1) ** 2 + (p2 - q2) ** 2)\n",
    "\n",
    "# Funktion för att klassificera nya punkter med k-NN (här k=10)\n",
    "def classify_knn(new_point, df, k=10):\n",
    "    distances = []\n",
    "    \n",
    "    # Beräkna avstånd från den nya punkten till alla punkter i träningsdata\n",
    "    for index, row in df.iterrows():\n",
    "        distance = euclidean_distance(new_point[0], new_point[1], row['width'], row['height'])\n",
    "        distances.append((distance, row['label']))\n",
    "\n",
    "    # Sortera alla avstånd i stigande ordning och välj de k närmaste punkterna\n",
    "    distances.sort(key=lambda x: x[0])\n",
    "    k_nearest_labels = [label for _, label in distances[:k]]\n",
    "    \n",
    "    # Majoritetsröstning: avgör klass baserat på majoriteten av de k närmaste punkterna\n",
    "    majority_vote = Counter(k_nearest_labels).most_common(1)[0][0]\n",
    "    \n",
    "    return majority_vote\n",
    "\n",
    "# Läser träningsdata från filen\n",
    "train_data = pd.read_csv(r\"C:\\Code\\Inlamning2-Pikachu\\Data\\datapoints.txt\")\n",
    "train_data.columns = ['width', 'height', 'label', 'nummer']  # Rättar kolumnnamn\n",
    "\n",
    "\n",
    "# Låter användaren mata in testpunkter\n",
    "user_point = get_user_input()\n",
    "\n",
    "# Klassificerar användarens inmatade punkt med k-NN (k=10)\n",
    "result_label = classify_knn(user_point, train_data, k=10)\n",
    "\n",
    "# Skriver ut resultatet\n",
    "print(f\"Punkt {user_point} klassificeras som {'Pichu' if result_label == 0 else 'Pikachu'}\")\n"
   ]
  },
  {
   "cell_type": "markdown",
   "metadata": {},
   "source": [
    "----------------------------------------------------------"
   ]
  },
  {
   "cell_type": "markdown",
   "metadata": {
    "vscode": {
     "languageId": "plaintext"
    }
   },
   "source": [
    "# Bonusuppgifter\n",
    "3. Dela in ursprungsdatan slumpmässigt så att:\n",
    "- 100 är träningsdata (50 Pikachu, 50 Pichu)\n",
    "- 50 är testdata (25 Pikachu, 25 Pichu)\n",
    "\n"
   ]
  },
  {
   "cell_type": "markdown",
   "metadata": {
    "vscode": {
     "languageId": "plaintext"
    }
   },
   "source": [
    "4. Beräkna noggranheten genom följande formel:\n",
    "\n",
    "accuracy = $(TP+TN)/(total)$\n",
    "\n",
    "\n",
    "| |  | Pikachu actual | Pichu actual |\n",
    "|---|--|---|---|\n",
    "|Pikachu predicted| | TP| FP\n",
    "|Pichu predicted| |FN|TN\n",
    "\n",
    "\n",
    "Här har vi låtit Pikachu vara positiv och Pichu vara \"icke-Pikachu\" dvs negativ.\n",
    "***Notera: För varje testpunkt beräknar vi distansen till träningspunkterna***\n"
   ]
  },
  {
   "cell_type": "code",
   "execution_count": 16,
   "metadata": {},
   "outputs": [
    {
     "name": "stdout",
     "output_type": "stream",
     "text": [
      "True Positives (TP): 23\n",
      "True Negatives (TN): 24\n",
      "False Positives (FP): 1\n",
      "False Negatives (FN): 2\n",
      "Noggrannhet: 94.00%\n"
     ]
    }
   ],
   "source": [
    "import math\n",
    "import pandas as pd\n",
    "from collections import Counter\n",
    "\n",
    "# Funktion för att beräkna euklidiskt avstånd\n",
    "def euclidean_distance(p1, p2, q1=0, q2=0):\n",
    "    return math.sqrt((p1 - q1) ** 2 + (p2 - q2) ** 2)\n",
    "\n",
    "# Funktion för k-NN klassificering (k=10)\n",
    "def classify_knn(new_point, train_data, k=10):\n",
    "    distances = []\n",
    "    \n",
    "    # Beräkna avstånd från den nya punkten till alla punkter i träningsdata\n",
    "    for index, row in train_data.iterrows():\n",
    "        distance = euclidean_distance(new_point[0], new_point[1], row['width'], row['height'])\n",
    "        distances.append((distance, row['label']))\n",
    "\n",
    "    # Sortera alla avstånd i stigande ordning och välj de k närmaste punkterna\n",
    "    distances.sort(key=lambda x: x[0])\n",
    "    k_nearest_labels = [label for _, label in distances[:k]]\n",
    "    \n",
    "    # Majoritetsröstning\n",
    "    majority_vote = Counter(k_nearest_labels).most_common(1)[0][0]\n",
    "    \n",
    "    return majority_vote\n",
    "\n",
    "# Läser tränings- och testdatan från den tidigare uppdelningen\n",
    "train_data = pd.concat([train_pichu, train_pikachu]).reset_index(drop=True)\n",
    "test_data = pd.concat([test_pichu, test_pikachu]).reset_index(drop=True)\n",
    "\n",
    "# Variabler för att hålla reda på TP, TN, FP, FN\n",
    "TP = 0  # True Positive\n",
    "TN = 0  # True Negative\n",
    "FP = 0  # False Positive\n",
    "FN = 0  # False Negative\n",
    "\n",
    "# Klassificera varje punkt i testdatan och uppdatera räknare\n",
    "for index, row in test_data.iterrows():\n",
    "    test_point = (row['width'], row['height'])\n",
    "    true_label = row['label']  # Faktisk label\n",
    "    \n",
    "    predicted_label = classify_knn(test_point, train_data, k=10)  # Klassificering med k-NN\n",
    "    \n",
    "    # Uppdaterar räknare baserat på den faktiska och förutspådda etiketten\n",
    "    if true_label == 1:  # Om det är Pikachu\n",
    "        if predicted_label == 1:\n",
    "            TP += 1  # True Positive\n",
    "        else:\n",
    "            FN += 1  # False Negative (Pikachu klassificeras som Pichu)\n",
    "    else:  # Om det är Pichu\n",
    "        if predicted_label == 0:\n",
    "            TN += 1  # True Negative\n",
    "        else:\n",
    "            FP += 1  # False Positive (Pichu klassificeras som Pikachu)\n",
    "\n",
    "# Beräkna total antal testpunkter\n",
    "total = len(test_data)\n",
    "\n",
    "# Beräkna noggrannhet\n",
    "accuracy = (TP + TN) / total\n",
    "\n",
    "# Skriver ut resultatet\n",
    "print(f\"True Positives (TP): {TP}\")\n",
    "print(f\"True Negatives (TN): {TN}\")\n",
    "print(f\"False Positives (FP): {FP}\")\n",
    "print(f\"False Negatives (FN): {FN}\")\n",
    "print(f\"Noggrannhet: {accuracy * 100:.2f}%\")\n"
   ]
  },
  {
   "cell_type": "markdown",
   "metadata": {
    "vscode": {
     "languageId": "plaintext"
    }
   },
   "source": [
    "\n",
    " 5. Upprepa uppgift 3 och 4 tio gånger, plotta en graf över accuracy och rapportera medelaccuracy.\n",
    "\n",
    " "
   ]
  },
  {
   "cell_type": "code",
   "execution_count": 19,
   "metadata": {},
   "outputs": [
    {
     "data": {
      "image/png": "[encoded data removed]",
      "text/plain": [
       "<Figure size 1000x600 with 1 Axes>"
      ]
     },
     "metadata": {},
     "output_type": "display_data"
    },
    {
     "name": "stdout",
     "output_type": "stream",
     "text": [
      "Medelnoggrannhet efter 10 körningar: 96.20%\n"
     ]
    }
   ],
   "source": [
    "import math\n",
    "import pandas as pd\n",
    "from collections import Counter\n",
    "import matplotlib.pyplot as plt\n",
    "import numpy as np\n",
    "\n",
    "# Funktion för att beräkna euklidiskt avstånd\n",
    "def euclidean_distance(p1, p2, q1=0, q2=0):\n",
    "    return math.sqrt((p1 - q1) ** 2 + (p2 - q2) ** 2)\n",
    "\n",
    "# Funktion för k-NN klassificering (k=10)\n",
    "def classify_knn(new_point, train_data, k=10):\n",
    "    distances = []\n",
    "    \n",
    "    # Beräkna avstånd från den nya punkten till alla punkter i träningsdata\n",
    "    for index, row in train_data.iterrows():\n",
    "        distance = euclidean_distance(new_point[0], new_point[1], row['width'], row['height'])\n",
    "        distances.append((distance, row['label']))\n",
    "\n",
    "    # Sortera alla avstånd i stigande ordning och välj de k närmaste punkterna\n",
    "    distances.sort(key=lambda x: x[0])\n",
    "    k_nearest_labels = [label for _, label in distances[:k]]\n",
    "    \n",
    "    # Majoritetsröstning\n",
    "    majority_vote = Counter(k_nearest_labels).most_common(1)[0][0]\n",
    "    \n",
    "    return majority_vote\n",
    "\n",
    "# Funktion för att beräkna noggrannhet för ett test-set\n",
    "def calculate_accuracy(train_data, test_data):\n",
    "    TP = TN = FP = FN = 0  # Initialisera räknare för True/False Positives/Negatives\n",
    "    \n",
    "    for index, row in test_data.iterrows():\n",
    "        test_point = (row['width'], row['height'])\n",
    "        true_label = row['label']  # Faktisk label\n",
    "        \n",
    "        predicted_label = classify_knn(test_point, train_data, k=10)  # Klassificering med k-NN\n",
    "        \n",
    "        # Uppdaterar räknare baserat på den faktiska och förutspådda etiketten\n",
    "        if true_label == 1:  # Pikachu\n",
    "            if predicted_label == 1:\n",
    "                TP += 1  # True Positive\n",
    "            else:\n",
    "                FN += 1  # False Negative (Pikachu klassificeras som Pichu)\n",
    "        else:  # Pichu\n",
    "            if predicted_label == 0:\n",
    "                TN += 1  # True Negative\n",
    "            else:\n",
    "                FP += 1  # False Positive (Pichu klassificeras som Pikachu)\n",
    "\n",
    "    # Beräkna total antal testpunkter\n",
    "    total = len(test_data)\n",
    "    \n",
    "    # Beräkna noggrannhet\n",
    "    accuracy = (TP + TN) / total\n",
    "    return accuracy\n",
    "\n",
    "# Funktion för att slumpmässigt dela data och returnera tränings- och test-set\n",
    "def split_data(data):\n",
    "    pichu_data = data[data['label'] == 0]\n",
    "    pikachu_data = data[data['label'] == 1]\n",
    "\n",
    "    # Slumpmässigt välj 50 Pichu och 50 Pikachu till träningsdata\n",
    "    train_pichu = pichu_data.sample(n=50, random_state=None)\n",
    "    train_pikachu = pikachu_data.sample(n=50, random_state=None)\n",
    "\n",
    "    # De resterande 25 Pichu och 25 Pikachu blir testdata\n",
    "    test_pichu = pichu_data.drop(train_pichu.index)\n",
    "    test_pikachu = pikachu_data.drop(train_pikachu.index)\n",
    "\n",
    "    # Slår samman tränings- och testdatan\n",
    "    train_data = pd.concat([train_pichu, train_pikachu]).reset_index(drop=True)\n",
    "    test_data = pd.concat([test_pichu, test_pikachu]).reset_index(drop=True)\n",
    "    \n",
    "    return train_data, test_data\n",
    "\n",
    "# Läser in ursprungsdatan\n",
    "data = pd.read_csv(r\"C:\\Code\\Inlamning2-Pikachu\\Data\\datapoints.txt\")\n",
    "data.columns = ['width', 'height', 'label', 'nummer']  # Rättar kolumnnamn\n",
    "\n",
    "# Lista för att spara noggrannheter från varje upprepning\n",
    "accuracies = []\n",
    "\n",
    "# Kör experimentet 10 gånger\n",
    "for i in range(10):\n",
    "    train_data, test_data = split_data(data)  # Dela data\n",
    "    accuracy = calculate_accuracy(train_data, test_data)  # Beräkna noggrannhet\n",
    "    accuracies.append(accuracy)  # Spara noggrannheten\n",
    "\n",
    "# Beräkna medelnoggrannhet\n",
    "mean_accuracy = np.mean(accuracies)\n",
    "\n",
    "# Plotta en graf över noggrannheterna från varje körning\n",
    "plt.figure(figsize=(10, 6))\n",
    "plt.plot(range(1, 11), accuracies, marker='o', linestyle='-', color='b', label='Accuracy')\n",
    "plt.axhline(y=mean_accuracy, color='r', linestyle='--', label=f'Mean Accuracy: {mean_accuracy:.2f}')\n",
    "plt.title('Accuracy over 10 iterations')\n",
    "plt.xlabel('Iteration')\n",
    "plt.ylabel('Accuracy')\n",
    "plt.legend()\n",
    "plt.grid(True)\n",
    "plt.show()\n",
    "\n",
    "# Skriv ut medelaccuracy\n",
    "print(f\"Medelnoggrannhet efter 10 körningar: {mean_accuracy * 100:.2f}%\")\n"
   ]
  },
  {
   "cell_type": "markdown",
   "metadata": {},
   "source": [
    "----------------------------------------------------------"
   ]
  },
  {
   "cell_type": "markdown",
   "metadata": {},
   "source": [
    " ### **Bedömning**\n",
    "\n",
    " Om du har fått någon kodsnutt från någon annan eller hittat i någon sida är det **viktigt att du källhänvisar.**\n",
    "\n",
    " Skriv en kommentar bredvid koden som du har tagit.\n",
    "\n",
    " \n",
    "\n",
    " **Godkänt**\n",
    " - löst grunduppgift, samt övriga uppgifter på korrekt sätt\n",
    " - koden är kommenterad med relevanta kommentarer\n",
    " - variabelnamnen är bra valda\n",
    " - gjort flera relevanta git commits\n",
    "\n",
    " **Väl Godkänt**\n",
    " - koden är enkel att följa\n",
    " - koden är effektiv\n",
    " - koden är välstrukturerad med lämpliga funktioner\n",
    " - kommentarerna är datavetenskapligt korrekta\n",
    " - löst samtliga uppgifter"
   ]
  }
 ],
 "metadata": {
  "kernelspec": {
   "display_name": ".venv",
   "language": "python",
   "name": "python3"
  },
  "language_info": {
   "codemirror_mode": {
    "name": "ipython",
    "version": 3
   },
   "file_extension": ".py",
   "mimetype": "text/x-python",
   "name": "python",
   "nbconvert_exporter": "python",
   "pygments_lexer": "ipython3",
   "version": "3.12.5"
  }
 },
 "nbformat": 4,
 "nbformat_minor": 2
}
