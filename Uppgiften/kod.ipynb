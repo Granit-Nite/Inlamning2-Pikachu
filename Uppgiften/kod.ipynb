{
 "cells": [
  {
   "cell_type": "code",
   "execution_count": 81,
   "metadata": {},
   "outputs": [
    {
     "name": "stdout",
     "output_type": "stream",
     "text": [
      "Accuracy: 100.00%\n",
      "Test point (25, 32) is predicted as: Pikachu\n",
      "Test point (24.2, 31.5) is predicted as: Pikachu\n",
      "Test point (22, 34) is predicted as: Pikachu\n",
      "Test point (20.5, 34) is predicted as: Pichu\n"
     ]
    },
    {
     "data": {
      "image/png": "[encoded data removed]",
      "text/plain": [
       "<Figure size 640x480 with 1 Axes>"
      ]
     },
     "metadata": {},
     "output_type": "display_data"
    }
   ],
   "source": [
    "import pandas as pd\n",
    "from collections import Counter\n",
    "import matplotlib.pyplot as plt\n",
    "\n",
    "# 1. Läser filen\n",
    "train_data = pd.read_csv(r\"C:\\Code\\Inlamning2-Pikachu\\Data\\datapoints.txt\")\n",
    "\n",
    "#döper om train_data till df\n",
    "df = pd.DataFrame(train_data)\n",
    "\n",
    "#städar listan på mellanslag och taps\n",
    "train_data.columns = train_data.columns.str.strip()\n",
    "\n",
    "#ÄNDRAR NAMN PÅ KOLUMMERNA\n",
    "df.columns = ['width', 'height', 'label', 'nummer']\n",
    "\n",
    "\n",
    "#SKRIVER UT ALLA PLOTTER SAMT DERAS COLUMNER\n",
    "#print(df)\n",
    "\n",
    "\n",
    "#SEPARERAR PÅ  på Pichu och Pikachu\n",
    "df1 = df[df.label == 0]     # df1= Pichu\n",
    "df2 = df[df.label == 1]     # df2= pikachu\n",
    "\n",
    "\n",
    "\n",
    "\n",
    "#SKAPAR EN TABELL MED GRÖN PICHU OCH BLÅ FÖR PIKACHU \n",
    "plt.xlabel('width')\n",
    "plt.ylabel('height')\n",
    "plt.scatter(df1['width'],df1['height'], color =\"green\",marker ='+') #Pichu\n",
    "plt.scatter(df2['width'],df2['height'], color =\"blue\",marker ='.') #Pikachu\n",
    "\n",
    "\n",
    "\n",
    "\n",
    "############################################################################# TRÄNA DATAN\n",
    "\n",
    "#DELAR UPP SÅ ATT X = width,height och Y = label\n",
    "x = df[['width', 'height']]   # x skriver bara ut width and height\n",
    "y = df['label']               # y skriver bara ut label (0 eller 1)\n",
    "\n",
    "#tränar datan med hjälp av sklearn \n",
    "from sklearn.model_selection import train_test_split\n",
    "x_train, x_test, y_train, y_test = train_test_split(x,y,test_size=0.3, random_state= 10)\n",
    "\n",
    "\n",
    "\n",
    "############################################################################ TESTA DATAN    \n",
    "\n",
    "\n",
    "\n",
    "from sklearn.experimental import enable_hist_gradient_boosting  \n",
    "from sklearn.ensemble import HistGradientBoostingClassifier\n",
    "\n",
    "# Laddar filen och gör om den till pandas DataFrame\n",
    "test_points = pd.read_csv(r'C:\\Code\\Inlamning2-Pikachu\\Data\\testpoints.txt')\n",
    "df_test = pd.DataFrame(test_points)\n",
    "\n",
    "#modellen jag anävnder\n",
    "model = HistGradientBoostingClassifier()\n",
    "model.fit(x, y)\n",
    "\n",
    "y_pred = model.predict(x_test)\n",
    "\n",
    "\n",
    "# Step 5: Evaluate the model\n",
    "y_pred = model.predict(x_test)\n",
    "accuracy = accuracy_score(y_test, y_pred)\n",
    "print(f'Accuracy: {accuracy * 100:.2f}%')\n",
    "\n",
    "# Step 6: Test with new data points\n",
    "test_points = [\n",
    "    (25, 32),\n",
    "    (24.2, 31.5),\n",
    "    (22, 34),\n",
    "    (20.5, 34)\n",
    "]\n",
    "\n",
    "# Convert test points to DataFrame\n",
    "test_df = pd.DataFrame(test_points, columns=['width', 'height'])\n",
    "predictions = model.predict(test_df)\n",
    "\n",
    "# Step 7: Print predictions\n",
    "for point, pred in zip(test_points, predictions):\n",
    "    label = \"Pichu\" if pred == 0 else \"Pikachu\"\n",
    "    print(f'Test point {point} is predicted as: {label}')\n",
    "\n",
    "\n",
    "###############################################################################"
   ]
  }
 ],
 "metadata": {
  "kernelspec": {
   "display_name": ".venv",
   "language": "python",
   "name": "python3"
  },
  "language_info": {
   "codemirror_mode": {
    "name": "ipython",
    "version": 3
   },
   "file_extension": ".py",
   "mimetype": "text/x-python",
   "name": "python",
   "nbconvert_exporter": "python",
   "pygments_lexer": "ipython3",
   "version": "3.12.5"
  }
 },
 "nbformat": 4,
 "nbformat_minor": 2
}
